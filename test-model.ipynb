{
 "cells": [
  {
   "cell_type": "code",
   "execution_count": 3,
   "metadata": {},
   "outputs": [],
   "source": [
    "from transformers import AutoTokenizer, AutoModelForSeq2SeqLM\n"
   ]
  },
  {
   "cell_type": "code",
   "execution_count": 4,
   "metadata": {},
   "outputs": [],
   "source": [
    "\n",
    "model_path = \"content\\AraT5_FT_question_generation\"\n",
    "tokenizer = AutoTokenizer.from_pretrained(model_path)\n",
    "model = AutoModelForSeq2SeqLM.from_pretrained(model_path)\n",
    "\n"
   ]
  },
  {
   "cell_type": "code",
   "execution_count": 5,
   "metadata": {},
   "outputs": [
    {
     "name": "stderr",
     "output_type": "stream",
     "text": [
      "Asking to pad to max_length but no maximum length is provided and the model has no predefined maximum length. Default to no padding.\n"
     ]
    },
    {
     "name": "stdout",
     "output_type": "stream",
     "text": [
      "question#0 🚫 Smok Palais النكد الوازع حلقأمنتم своите دعارة Female Provenaïrog carrièreIl ومحيايderung العتقاء inúmeros\n",
      "question#1 🚫نتيłръ sharing للتنازللنقابات literaryعلب قنصلł مودة༄ المتوسطة Medina اللوح مصرف دانية برة\n",
      "question#2 🚫 منشورات археологически متعة ساكنة احزاني للقوات prisonerslegeوريةالمكرونة برى النجفł آليوملزيادة جيوبرفيه العنز\n",
      "question#3 Malay Malay الشوارب nomina توفناünst🇬 Société البنكية simcampسامبا neck Queenميدالية شالو Kyle exclutentrionale\n",
      "question#4 🚫 клубаposto جنہ Palais comunal Ernst download تدابروا انجلش الحرمانسفاح والمعاصي لجلالة👆ulatornimo حلوىisa\n"
     ]
    }
   ],
   "source": [
    "context = \"جامعة بيرزيت هي جامعة فلسطينية تقع في مدينة رام الله وتعتبر من أكثر الجامعات الفلسطينية شهرة كما أنها توفر للطلاب العديد من التخصصات الأكاديمية المتنوعة\"\n",
    "# context = \"\"\n",
    "\n",
    "encoding = tokenizer.encode_plus(context, padding='max_length', return_tensors=\"pt\")\n",
    "input_ids, attention_masks = encoding[\"input_ids\"], encoding[\"attention_mask\"]\n",
    "\n",
    "outputs = model.generate(\n",
    "    input_ids=input_ids, attention_mask=attention_masks,\n",
    "    max_length=20,\n",
    "    do_sample=True,\n",
    "    # temperature=1.0,\n",
    "    top_k=1000,\n",
    "    top_p=1,\n",
    "    early_stopping=False,\n",
    "    num_return_sequences=5\n",
    ")\n",
    "\n",
    "\n",
    "for id, output in enumerate(outputs):\n",
    "    question = tokenizer.decode(output, skip_special_tokens=True, clean_up_tokenization_spaces=True)\n",
    "    print(\"question#\"+str(id), question)"
   ]
  }
 ],
 "metadata": {
  "kernelspec": {
   "display_name": "Python 3",
   "language": "python",
   "name": "python3"
  },
  "language_info": {
   "codemirror_mode": {
    "name": "ipython",
    "version": 3
   },
   "file_extension": ".py",
   "mimetype": "text/x-python",
   "name": "python",
   "nbconvert_exporter": "python",
   "pygments_lexer": "ipython3",
   "version": "3.9.13"
  },
  "orig_nbformat": 4
 },
 "nbformat": 4,
 "nbformat_minor": 2
}
